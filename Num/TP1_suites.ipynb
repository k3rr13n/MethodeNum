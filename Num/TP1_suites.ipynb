{
 "cells": [
  {
   "cell_type": "markdown",
   "metadata": {},
   "source": [
    "#                                 TP1 Les suites"
   ]
  },
  {
   "cell_type": "markdown",
   "metadata": {},
   "source": [
    "## Exercice 1"
   ]
  },
  {
   "cell_type": "markdown",
   "metadata": {},
   "source": [
    "1. La suite $(a_n)$ est définie à l'aide du code ci-dessous. Calculer (à la main) les quatre\n",
    "premiers termes de cette suite et donnez-en une définition plus \"mathématique\"."
   ]
  },
  {
   "cell_type": "code",
   "execution_count": 27,
   "metadata": {},
   "outputs": [],
   "source": [
    "import matplotlib.pyplot as plt\n",
    "\n",
    "def a(n):\n",
    "    res =0.25\n",
    "    for i in range (n):\n",
    "        res =2* res +1\n",
    "    return res"
   ]
  },
  {
   "cell_type": "code",
   "execution_count": 28,
   "metadata": {},
   "outputs": [
    {
     "data": {
      "text/plain": [
       "(0.25, 1.5, 4, 9, 19)"
      ]
     },
     "execution_count": 28,
     "metadata": {},
     "output_type": "execute_result"
    }
   ],
   "source": [
    "0.25, 1.5, 4, 9, 19\n",
    "\n",
    "#a(0) = 0.25\n",
    "#a(n+1) = 2 * a(n) + 1"
   ]
  },
  {
   "cell_type": "markdown",
   "metadata": {},
   "source": [
    "2.a. Calculer les 10 premières valeurs de cette suite."
   ]
  },
  {
   "cell_type": "code",
   "execution_count": 29,
   "metadata": {},
   "outputs": [
    {
     "name": "stdout",
     "output_type": "stream",
     "text": [
      "1.5 4.0 9.0 19.0 39.0 79.0 159.0 319.0 639.0 1279.0\n"
     ]
    }
   ],
   "source": [
    "print(a(1), a(2), a(3), a(4), a(5), a(6), a(7), a(8), a(9), a(10))"
   ]
  },
  {
   "cell_type": "markdown",
   "metadata": {},
   "source": [
    "2.b Placer dans un repère les points correspondants, c'est-à-dire les points de coordonnées\n",
    "$(n; a_n)$ pour $0\\leq n \\leq 9$."
   ]
  },
  {
   "cell_type": "code",
   "execution_count": null,
   "metadata": {},
   "outputs": [
    {
     "data": {
      "image/png": "[encoded data removed]",
      "text/plain": [
       "<Figure size 640x480 with 1 Axes>"
      ]
     },
     "metadata": {},
     "output_type": "display_data"
    }
   ],
   "source": [
    "def z(n):\n",
    "    x = range(10)\n",
    "    y = [a(i) for i in x]\n",
    "    plt.plot(x,y,'rp-')\n",
    "\n",
    "z(10)"
   ]
  },
  {
   "cell_type": "markdown",
   "metadata": {},
   "source": [
    "3. La suite $(a_n)$ est-elle minorée ? majorée ? bornée ? (précisez)"
   ]
  },
  {
   "cell_type": "code",
   "execution_count": null,
   "metadata": {},
   "outputs": [],
   "source": [
    "#a(n) est minorée si pour tout M apartenant a R telque a(n) >= M\n",
    "#a(n) est majorée si pour tout M apartenant a R telque a(n) <= M\n",
    "#a(n) est bornée si la suite est majorée et minorée\n",
    "\n",
    "\n",
    "# La suite a(n) est minoré par 0.25\n",
    "# La suite a(n) n'est pas majorée\n",
    "# La suite a(n) n'est pas bornée"
   ]
  },
  {
   "cell_type": "markdown",
   "metadata": {},
   "source": [
    "4. Conjecturer la limite de la suite $(a_n)$ que l'on notera $L$."
   ]
  },
  {
   "cell_type": "code",
   "execution_count": null,
   "metadata": {},
   "outputs": [],
   "source": [
    "#(L (limite) = +l'infini)"
   ]
  },
  {
   "cell_type": "markdown",
   "metadata": {},
   "source": [
    "5. Déterminer le rang à partir duquel $a_n \\approx L$ à $10^{-4}$ près.\n",
    "Autrement dit, on cherche la plus petite valeur de $n$ pour laquelle $|a_n-L| \\leq 10^{-4}$."
   ]
  },
  {
   "cell_type": "code",
   "execution_count": null,
   "metadata": {},
   "outputs": [],
   "source": [
    "# Imposible car la limite est égale a +l'infini"
   ]
  },
  {
   "cell_type": "markdown",
   "metadata": {},
   "source": [
    "## Exercice 2"
   ]
  },
  {
   "cell_type": "markdown",
   "metadata": {},
   "source": [
    "1. La suite $(b_n)$ est définie à l'aide du code ci-dessous. Calculer (à la main) les quatre\n",
    "premiers termes de cette suite et donnez-en une définition plus \"mathématique\"."
   ]
  },
  {
   "cell_type": "code",
   "execution_count": 40,
   "metadata": {},
   "outputs": [
    {
     "name": "stdout",
     "output_type": "stream",
     "text": [
      "0.4117647058823529\n"
     ]
    }
   ],
   "source": [
    "def b(n):\n",
    "    if n ==0:\n",
    "        return 0.2\n",
    "    else :\n",
    "        return 1/(2* b(n -1) +1)\n",
    "\n",
    "print(b(2))"
   ]
  },
  {
   "cell_type": "code",
   "execution_count": null,
   "metadata": {},
   "outputs": [
    {
     "name": "stdout",
     "output_type": "stream",
     "text": [
      "0.4117647058823529\n"
     ]
    }
   ],
   "source": [
    "def b(n):\n",
    "    if n ==0:\n",
    "        return 0.2\n",
    "    else :\n",
    "        return 1/(2* b(n -1) +1)"
   ]
  },
  {
   "cell_type": "code",
   "execution_count": null,
   "metadata": {},
   "outputs": [],
   "source": [
    "0.2, 0.714, 0.411, 0.548"
   ]
  },
  {
   "cell_type": "markdown",
   "metadata": {},
   "source": [
    "2.a. Calculer les 10 premières valeurs de cette suite."
   ]
  },
  {
   "cell_type": "code",
   "execution_count": 43,
   "metadata": {},
   "outputs": [
    {
     "name": "stdout",
     "output_type": "stream",
     "text": [
      "0.4996338784476446\n",
      "0.4996338784476446\n",
      "0.4996338784476446\n",
      "0.4996338784476446\n",
      "0.4996338784476446\n",
      "0.4996338784476446\n",
      "0.4996338784476446\n",
      "0.4996338784476446\n",
      "0.4996338784476446\n",
      "0.4996338784476446\n"
     ]
    },
    {
     "data": {
      "text/plain": [
       "10"
      ]
     },
     "execution_count": 43,
     "metadata": {},
     "output_type": "execute_result"
    }
   ],
   "source": [
    "def cal(n):\n",
    "    for i in range(n):\n",
    "        print(b(n))\n",
    "    return n\n",
    "\n",
    "cal(10)"
   ]
  },
  {
   "cell_type": "markdown",
   "metadata": {},
   "source": [
    "2.b Placer dans un repère les points correspondants, c'est-à-dire les points de coordonnées\n",
    "$(n; b_n)$ pour $0\\leq n \\leq 9$."
   ]
  },
  {
   "cell_type": "code",
   "execution_count": null,
   "metadata": {},
   "outputs": [
    {
     "data": {
      "image/png": "[encoded data removed]",
      "text/plain": [
       "<Figure size 640x480 with 1 Axes>"
      ]
     },
     "metadata": {},
     "output_type": "display_data"
    }
   ],
   "source": [
    "def y(n):\n",
    "    x = range(10)\n",
    "    y = [b(i) for i in x]\n",
    "    plt.plot(x,y,'rp-')\n",
    "\n",
    "y(10)"
   ]
  },
  {
   "cell_type": "markdown",
   "metadata": {},
   "source": [
    "3. La suite $(b_n)$ est-elle minorée ? majorée ? bornée ? (précisez)"
   ]
  },
  {
   "cell_type": "code",
   "execution_count": null,
   "metadata": {},
   "outputs": [],
   "source": [
    "# La suite b(n) est minoré par 0.2\n",
    "# La suite b(n) est majorée par 0.8\n",
    "# La suite b(n) est bornée"
   ]
  },
  {
   "cell_type": "markdown",
   "metadata": {},
   "source": [
    "4. Conjecturer la limite de la suite $(b_n)$ que l'on notera $L$."
   ]
  },
  {
   "cell_type": "code",
   "execution_count": null,
   "metadata": {},
   "outputs": [],
   "source": [
    "# L = 0.5"
   ]
  },
  {
   "cell_type": "markdown",
   "metadata": {},
   "source": [
    "5. Déterminer le rang à partir duquel $b_n \\approx L$ à $10^{-4}$ près.\n",
    "Autrement dit, on cherche la plus petite valeur de $n$ pour laquelle $|b_n-L| \\leq 10^{-4}$."
   ]
  },
  {
   "cell_type": "code",
   "execution_count": 48,
   "metadata": {},
   "outputs": [
    {
     "ename": "NameError",
     "evalue": "name 'obs' is not defined",
     "output_type": "error",
     "traceback": [
      "\u001b[0;31m---------------------------------------------------------------------------\u001b[0m",
      "\u001b[0;31mNameError\u001b[0m                                 Traceback (most recent call last)",
      "Cell \u001b[0;32mIn[48], line 3\u001b[0m\n\u001b[1;32m      1\u001b[0m res \u001b[38;5;241m=\u001b[39m \u001b[38;5;241m0\u001b[39m\n\u001b[1;32m      2\u001b[0m n \u001b[38;5;241m=\u001b[39m \u001b[38;5;241m0\u001b[39m\n\u001b[0;32m----> 3\u001b[0m \u001b[38;5;28;01mwhile\u001b[39;00m \u001b[43mobs\u001b[49m(res\u001b[38;5;241m-\u001b[39m\u001b[38;5;241m0.5\u001b[39m) \u001b[38;5;241m>\u001b[39m \u001b[38;5;241m10\u001b[39m\u001b[38;5;241m*\u001b[39m\u001b[38;5;241m*\u001b[39m\u001b[38;5;241m-\u001b[39m\u001b[38;5;241m4\u001b[39m:\n\u001b[1;32m      4\u001b[0m     n \u001b[38;5;241m+\u001b[39m\u001b[38;5;241m=\u001b[39m \u001b[38;5;241m1\u001b[39m\n\u001b[1;32m      5\u001b[0m     res \u001b[38;5;241m=\u001b[39m b(n)\n",
      "\u001b[0;31mNameError\u001b[0m: name 'obs' is not defined"
     ]
    }
   ],
   "source": [
    "res = 0\n",
    "n = 0\n",
    "while obs(res-0.5) > 10**-4:\n",
    "    n += 1\n",
    "    res = b(n)\n",
    "print((b, n))"
   ]
  },
  {
   "cell_type": "markdown",
   "metadata": {},
   "source": [
    "Epic transition"
   ]
  },
  {
   "cell_type": "code",
   "execution_count": 50,
   "metadata": {},
   "outputs": [
    {
     "name": "stdout",
     "output_type": "stream",
     "text": [
      "0.09090909090909091\n"
     ]
    }
   ],
   "source": [
    "def c(n):\n",
    "    return 1/(n+1)\n",
    "\n",
    "print(c(10))"
   ]
  },
  {
   "cell_type": "code",
   "execution_count": 51,
   "metadata": {},
   "outputs": [
    {
     "data": {
      "image/png": "[encoded data removed]",
      "text/plain": [
       "<Figure size 640x480 with 1 Axes>"
      ]
     },
     "metadata": {},
     "output_type": "display_data"
    }
   ],
   "source": [
    "def x(n):\n",
    "    x = range(10)\n",
    "    y = [c(i) for i in x]\n",
    "    plt.plot(x,y,'rp-')\n",
    "\n",
    "x(10)"
   ]
  },
  {
   "cell_type": "code",
   "execution_count": null,
   "metadata": {},
   "outputs": [],
   "source": [
    "# La suite c(n) n'est pas minorée\n",
    "# La suite c(n) est majorée par 1\n",
    "# La suite c(n) n'est pas bornée"
   ]
  },
  {
   "cell_type": "code",
   "execution_count": null,
   "metadata": {},
   "outputs": [],
   "source": [
    "# L = 0"
   ]
  },
  {
   "cell_type": "code",
   "execution_count": null,
   "metadata": {},
   "outputs": [],
   "source": []
  }
 ],
 "metadata": {
  "kernelspec": {
   "display_name": "Python 3",
   "language": "python",
   "name": "python3"
  },
  "language_info": {
   "codemirror_mode": {
    "name": "ipython",
    "version": 3
   },
   "file_extension": ".py",
   "mimetype": "text/x-python",
   "name": "python",
   "nbconvert_exporter": "python",
   "pygments_lexer": "ipython3",
   "version": "3.12.3"
  }
 },
 "nbformat": 4,
 "nbformat_minor": 4
}
