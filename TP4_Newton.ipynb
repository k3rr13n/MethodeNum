{
 "cells": [
  {
   "cell_type": "markdown",
   "metadata": {},
   "source": [
    "# TP4 Méthode de Newton"
   ]
  },
  {
   "cell_type": "markdown",
   "metadata": {},
   "source": [
    "**Théorème:**  Méthode de Newton.\n",
    "\n",
    "Soient $I$ un intervalle de $\\mathbb{R}$ et \n",
    " $f:I\\rightarrow \\mathbb{R}$ une fonction de classe $C^1$ ayant un unique zéro $\\alpha$ dans $I$.  Si $x_0$ est suffisamment proche de $\\alpha$ et si $f'(\\alpha) \\neq 0$, alors la suite  $(x_n)$ définie pour tout $n\\in\\mathbb{N}$ par $x_{n+1}=x_n-\\frac{f(x_n)}{f'(x_n)}$ converge vers le zéro  $\\alpha$.\n",
    " \n",
    "\n",
    "Soit $I$ un intervalle de $\\mathbb{R}$. Dans la suite on considère $f:I\\rightarrow \\mathbb{R}$ une fonction de classe $C^1$ ayant un unique zéro $\\alpha$ dans $I$.  "
   ]
  },
  {
   "cell_type": "markdown",
   "metadata": {},
   "source": [
    "## Exercice 1 - Rappels"
   ]
  },
  {
   "cell_type": "markdown",
   "metadata": {},
   "source": [
    "1. Donner la définition du nombre dérivé en $a\\in I$ de $f$."
   ]
  },
  {
   "cell_type": "code",
   "execution_count": 3,
   "metadata": {},
   "outputs": [],
   "source": [
    "# Le nombre dérivé est le coeficient directeur de la tangente au point \"a\"."
   ]
  },
  {
   "cell_type": "markdown",
   "metadata": {},
   "source": [
    "2. Donner l’équation de la tangente au graphe de $f$ au point de coordonnées $(a; f(a))$."
   ]
  },
  {
   "cell_type": "code",
   "execution_count": 4,
   "metadata": {},
   "outputs": [],
   "source": [
    "# Ta : y = px + q\n",
    "# p = f'(a)\n",
    "# f(a) = f'(a)a + q\n",
    "# q = f(a) - f'(a)a\n",
    "\n",
    "# Ta : y = f'(a)x + f(a) - f'(a)a   =>  y = f'(a)(x-a) + f(a)"
   ]
  },
  {
   "cell_type": "markdown",
   "metadata": {},
   "source": [
    "3. Donner une approximation affine de $f$ au voisinage de $a$."
   ]
  },
  {
   "cell_type": "code",
   "execution_count": 5,
   "metadata": {},
   "outputs": [],
   "source": [
    "# L'approximation affine de f au voisinage de a est => y = f'(a)(x-a) + f(a) + o(x-a) "
   ]
  },
  {
   "cell_type": "markdown",
   "metadata": {},
   "source": [
    "## Exercice 2 - Interprétation graphique de la méthode de Newton."
   ]
  },
  {
   "cell_type": "markdown",
   "metadata": {},
   "source": [
    "1. Ecrire (à la main) les trois premiers termes de la suite $(x_n)$."
   ]
  },
  {
   "cell_type": "code",
   "execution_count": 6,
   "metadata": {},
   "outputs": [],
   "source": [
    "# x1 = x0 - f(x0)/f'(x0)\n",
    "# x2 = x1 - f(x1)/f'(x1)\n",
    "# x3 = x2 - f(x2)/f'(x2)"
   ]
  },
  {
   "cell_type": "markdown",
   "metadata": {},
   "source": [
    "2. Ecrire l’équation de la tangente au graphe de $f$ au point de coordonnées $(x_n; f(x_n))$. En\n",
    "quel point cette tangente intersecte-t-elle la droite des abscisses ?"
   ]
  },
  {
   "cell_type": "code",
   "execution_count": 7,
   "metadata": {},
   "outputs": [],
   "source": [
    "# Ta : y = f'(xn)(x-xn) + f(xn)\n",
    "\n",
    "# La tengente intersecte la droite des abcisses au point xn-f(xn)"
   ]
  },
  {
   "cell_type": "markdown",
   "metadata": {},
   "source": [
    "3. En déduire une interprétation graphique de la suite $(x_n)$."
   ]
  },
  {
   "cell_type": "code",
   "execution_count": null,
   "metadata": {},
   "outputs": [],
   "source": []
  },
  {
   "cell_type": "markdown",
   "metadata": {},
   "source": [
    "4. Placer les quatre premiers termes de la suite $(x_n)$ sur le graphe ci-dessous avec $x_0 = 3.75$.\n"
   ]
  },
  {
   "attachments": {
    "newton.png": {
     "image/png": "[encoded data removed]"
    }
   },
   "cell_type": "markdown",
   "metadata": {},
   "source": [
    "![newton.png](attachment:newton.png)"
   ]
  },
  {
   "cell_type": "markdown",
   "metadata": {},
   "source": [
    "## Exercice 3 - Implémentation de la méthode de Newton."
   ]
  },
  {
   "cell_type": "markdown",
   "metadata": {},
   "source": [
    "1. Ecrire une fonction newton(f,f’,$x_0$,n) qui retourne une valeur approchée $x_n$ du zéro\n",
    "de $f$ par la méthode de Newton."
   ]
  },
  {
   "cell_type": "code",
   "execution_count": 37,
   "metadata": {},
   "outputs": [],
   "source": [
    "def newton(f,f2,x0,n):\n",
    "    x = x0\n",
    "    for i in range(n):\n",
    "        if f2(x)!= 0:\n",
    "            x = x-f(x)/f2(x)\n",
    "        else:\n",
    "            return False\n",
    "    return x"
   ]
  },
  {
   "cell_type": "markdown",
   "metadata": {},
   "source": [
    "2. Ecrire une fonction newton_graphe(f,f’,$x_0$,n) qui renvoie le graphe d’une fonction $f$\n",
    "ainsi que ses tangentes aux points de coordonnées $(x_n; f(x_n))$.\n"
   ]
  },
  {
   "cell_type": "code",
   "execution_count": 38,
   "metadata": {},
   "outputs": [],
   "source": [
    "import matplotlib.pyplot as plt\n",
    "\n",
    "def newton_graphe(f,f2,x0,n):\n",
    "    absi= numpy.linspace (-1,3,20)\n",
    "    x=x0\n",
    "    plt.plot(absi,[f(t) for t in absi])\n",
    "    plt.plot(absi,[0 for t in absi], 'black')\n",
    "    for i in range(n):\n",
    "        plt.plot(absi,[f2(x)*(t-x)+f(x) for t in absi])\n",
    "        x=x-f(x)/ float(f2(x))\n"
   ]
  },
  {
   "cell_type": "markdown",
   "metadata": {},
   "source": [
    "3. Soit la fonction $f(x) = x^3-3x^2 + 1$. Appliquer la méthode de Newton en partant du point $x_0 = 1$ et comparer avec le résultat obtenu dans le TP3 avec la méthode de dichotomie. Que se passe-t-il si l’on\n",
    "prend $x_0 = 0$; $x_0 = 2$ ou $x_0 = 1.9$ ? Que peut-on en déduire ?"
   ]
  },
  {
   "cell_type": "code",
   "execution_count": null,
   "metadata": {},
   "outputs": [],
   "source": []
  },
  {
   "cell_type": "markdown",
   "metadata": {},
   "source": [
    "4. Appliquer cette méthode pour le calcul approché de $\\sqrt 3$ et comparer le résultat à celui du TP3 avec la méthode de dichotomie."
   ]
  },
  {
   "cell_type": "code",
   "execution_count": 10,
   "metadata": {},
   "outputs": [],
   "source": [
    "import math\n"
   ]
  }
 ],
 "metadata": {
  "kernelspec": {
   "display_name": "Python 3",
   "language": "python",
   "name": "python3"
  },
  "language_info": {
   "codemirror_mode": {
    "name": "ipython",
    "version": 3
   },
   "file_extension": ".py",
   "mimetype": "text/x-python",
   "name": "python",
   "nbconvert_exporter": "python",
   "pygments_lexer": "ipython3",
   "version": "3.12.3"
  }
 },
 "nbformat": 4,
 "nbformat_minor": 4
}
